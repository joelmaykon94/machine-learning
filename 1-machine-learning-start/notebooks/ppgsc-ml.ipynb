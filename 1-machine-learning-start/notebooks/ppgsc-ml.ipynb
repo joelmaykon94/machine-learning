{
 "cells": [
  {
   "cell_type": "markdown",
   "metadata": {},
   "source": [
    "dataset price bitcoin: https://www.investing.com/crypto/bitcoin/historical-data\n",
    "\n",
    "dataset twitter: https://www.kaggle.com/datasets/kaushiksuresh147/bitcoin-tweets"
   ]
  },
  {
   "cell_type": "code",
   "execution_count": 13,
   "metadata": {},
   "outputs": [
    {
     "name": "stderr",
     "output_type": "stream",
     "text": [
      "[nltk_data] Downloading package stopwords to\n",
      "[nltk_data]     C:\\Users\\joelm\\AppData\\Roaming\\nltk_data...\n",
      "[nltk_data]   Package stopwords is already up-to-date!\n",
      "[nltk_data] Downloading package vader_lexicon to\n",
      "[nltk_data]     C:\\Users\\joelm\\AppData\\Roaming\\nltk_data...\n",
      "[nltk_data]   Package vader_lexicon is already up-to-date!\n"
     ]
    },
    {
     "data": {
      "text/plain": [
       "' Atributos base 03 - bitcoin info\\nData: Data em que as métricas foram registradas. (Date)\\nContagem de Endereços Ativos: Número de endereços únicos que realizaram transações na rede. (AdrActCnt)\\nContagem de Endereços com Saldo de 100 mil ou mais: Número de endereços com saldo de 100 mil ou mais unidades da criptomoeda. (AdrBal1in100KCnt)\\nContagem de Endereços com Saldo de 100 milhões ou mais: Número de endereços com saldo de 100 milhões ou mais unidades da criptomoeda. (AdrBal1in100MCnt)\\nContagem de Endereços com Saldo de 10 bilhões ou mais: Número de endereços com saldo de 10 bilhões ou mais unidades da criptomoeda. (AdrBal1in10BCnt)\\nContagem de Endereços com Saldo de 10 mil ou mais: Número de endereços com saldo de 10 mil ou mais unidades da criptomoeda. (AdrBal1in10KCnt)\\nContagem de Endereços com Saldo de 10 milhões ou mais: Número de endereços com saldo de 10 milhões ou mais unidades da criptomoeda. (AdrBal1in10MCnt)\\nContagem de Endereços com Saldo de 1 bilhão ou mais: Número de endereços com saldo de 1 bilhão ou mais unidades da criptomoeda. (AdrBal1in1BCnt)\\nContagem de Endereços com Saldo de 1 mil ou mais: Número de endereços com saldo de 1 mil ou mais unidades da criptomoeda. (AdrBal1in1KCnt)\\nContagem de Endereços com Saldo de 1 milhão ou mais: Número de endereços com saldo de 1 milhão ou mais unidades da criptomoeda. (AdrBal1in1MCnt)\\nContagem de Endereços com Saldo: Número total de endereços com saldo de qualquer valor. (AdrBalCnt)\\nContagem de Endereços com Saldo Nativo de 0.001 ou mais: Número de endereços com saldo nativo de 0.001 ou mais unidades da criptomoeda. (AdrBalNtv0.001Cnt)\\nContagem de Endereços com Saldo Nativo de 0.01 ou mais: Número de endereços com saldo nativo de 0.01 ou mais unidades da criptomoeda. (AdrBalNtv0.01Cnt)\\nContagem de Endereços com Saldo Nativo de 0.1 ou mais: Número de endereços com saldo nativo de 0.1 ou mais unidades da criptomoeda. (AdrBalNtv0.1Cnt)\\nContagem de Endereços com Saldo Nativo de 100 ou mais: Número de endereços com saldo nativo de 100 ou mais unidades da criptomoeda. (AdrBalNtv100Cnt)\\nContagem de Endereços com Saldo Nativo de 100 mil ou mais: Número de endereços com saldo nativo de 100 mil ou mais unidades da criptomoeda. (AdrBalNtv100KCnt)\\nContagem de Endereços com Saldo Nativo de 10 ou mais: Número de endereços com saldo nativo de 10 ou mais unidades da criptomoeda. (AdrBalNtv10Cnt)\\nContagem de Endereços com Saldo Nativo de 10 mil ou mais: Número de endereços com saldo nativo de 10 mil ou mais unidades da criptomoeda. (AdrBalNtv10KCnt)\\nContagem de Endereços com Saldo Nativo de 1 ou mais: Número de endereços com saldo nativo de 1 ou mais unidades da criptomoeda. (AdrBalNtv1Cnt)\\nContagem de Endereços com Saldo Nativo de 1 mil ou mais: Número de endereços com saldo nativo de 1 mil ou mais unidades da criptomoeda. (AdrBalNtv1KCnt)\\nContagem de Endereços com Saldo Nativo de 1 milhão ou mais: Número de endereços com saldo nativo de 1 milhão ou mais unidades da criptomoeda. (AdrBalNtv1MCnt)\\nContagem de Endereços com Saldo em USD de 100 ou mais: Número de endereços com saldo em USD de 100 ou mais unidades. (AdrBalUSD100Cnt)\\nContagem de Endereços com Saldo em USD de 100 mil ou mais: Número de endereços com saldo em USD de 100 mil ou mais unidades. (AdrBalUSD100KCnt)\\nContagem de Endereços com Saldo em USD de 10 ou mais: Número de endereços com saldo em USD de 10 ou mais unidades. (AdrBalUSD10Cnt)\\nContagem de Endereços com Saldo em USD de 10 mil ou mais: Número de endereços com saldo em USD de 10 mil ou mais unidades. (AdrBalUSD10KCnt)\\nContagem de Endereços com Saldo em USD de 10 milhões ou mais: Número de endereços com saldo em USD de 10 milhões ou mais unidades. (AdrBalUSD10MCnt)\\nContagem de Endereços com Saldo em USD de 1 ou mais: Número de endereços com saldo em USD de 1 ou mais unidades. (AdrBalUSD1Cnt)\\nContagem de Endereços com Saldo em USD de 1 mil ou mais: Número de endereços com saldo em USD de 1 mil ou mais unidades. (AdrBalUSD1KCnt)\\nContagem de Endereços com Saldo em USD de 1 milhão ou mais: Número de endereços com saldo em USD de 1 milhão ou mais unidades. (AdrBalUSD1MCnt)\\nTempo de conclusão do Ativo no Fim do Dia do Ativo: Horário de conclusão do ativo no fim do dia. (AssetEODCompletionTime)\\nContagem de Blocos: Número total de blocos na blockchain. (BlkCnt)\\nTamanho Médio do Bloco em Bytes: Tamanho médio dos blocos em bytes. (BlkSizeMeanByte)\\nPeso Médio do Bloco: Peso médio dos blocos. (BlkWghtMean)\\nPeso Total do Bloco: Peso total dos blocos. (BlkWghtTot)\\nAtividade de Capitalização em USD no Último Ano: Atividade de capitalização em USD no último ano. (CapAct1yrUSD)\\nValor Realizado de Mercado Atual: Valor de mercado realizado atual. (CapMVRVCur)\\nValor Realizado de Mercado para Valor de Mercado Futuro: Valor de mercado realizado para valor de mercado futuro. (CapMVRVFF)\\nValor de Mercado Atual em USD: Valor de mercado atual em USD. (CapMrktCurUSD)\\nValor de Mercado Futuro em USD: Valor de mercado futuro em USD. (CapMrktFFUSD)\\nValor Realizado em USD: Valor realizado em USD. (CapRealUSD)\\nDificuldade do Último Bloco: Dificuldade do último bloco. (DiffLast)\\nDificuldade Média: Dificuldade média. (DiffMean)\\nTaxa Média de Taxa por Byte Nativa: Taxa média de taxa por byte nativa. (FeeByteMeanNtv)\\nTaxa Média de Taxa: Taxa média de taxa. (FeeMeanNtv)\\nTaxa Média em USD: Taxa média em USD. (FeeMeanUSD)\\nTaxa Mediana Nativa: Taxa mediana nativa. (FeeMedNtv)\\nTaxa Mediana em USD: Taxa mediana em USD. (FeeMedUSD)\\nTaxa Total Nativa: Taxa total nativa. (FeeTotNtv)\\nTaxa Total em USD: Taxa total em USD. (FeeTotUSD)\\nFluxo de Entrada de Trocas em Unidades Nativas: Fluxo de entrada de trocas em unidades nativas. (FlowInExNtv)\\nFluxo de Entrada de Trocas em USD: Fluxo de entrada de trocas em USD. (FlowInExUSD)\\nFluxo de Saída de Trocas em Unidades Nativas: Fluxo de saída de trocas em unidades nativas. (FlowOutExNtv)\\nFluxo de Saída de Trocas em USD: Fluxo de saída de trocas em USD. (FlowOutExUSD)\\nContagem de Transferências de Troca: Número de transferências de troca. (FlowTfrFromExCnt)\\nTaxa de Hash: Taxa de hash. (HashRate)\\nTaxa de Hash dos Últimos 30 Dias: Taxa de hash dos últimos 30 dias. (HashRate30d)\\nContagem de Contratos Emitidos em Unidades Nativas: Número de contratos emitidos em unidades nativas. (IssContNtv)\\nPercentual de Contratos Emitidos Anualmente: Percentual de contratos emitidos anualmente. (IssContPctAnn)\\nPercentual de Contratos Emitidos Diariamente: Percentual de contratos emitidos diariamente. (IssContPctDay)\\nValor de Contratos Emitidos em USD: Valor de contratos emitidos em USD. (IssContUSD)\\nTotal Emitido em Unidades Nativas: Total emitido em unidades nativas. (IssTotNtv)\\nTotal Emitido em USD: Total emitido em USD. (IssTotUSD)\\nData da Prova de Trabalho: Data da prova de trabalho. (NDF)\\nNVT Ajustado: NVT ajustado. (NVTAdj)\\nNVT Ajustado em 90 Dias: NVT ajustado em 90 dias. (NVTAdj90)\\nNVT Ajustado Futuro: NVT ajustado futuro. (NVTAdjFF)\\nNVT Ajustado Futuro em 90 Dias: NVT ajustado futuro em 90 dias. (NVTAdjFF90)\\nPreço em BTC: Preço em BTC. (PriceBTC)\\nPreço em USD: Preço em USD. (PriceUSD)\\nROI de 1 Ano: ROI de 1 ano. (ROI1yr)\\nROI de 30 Dias: ROI de 30 dias. (ROI30d)\\nReceita Total em USD de Todos os Tempos: Receita total em USD de todos os tempos. (RevAllTimeUSD)\\nReceita de Hash em Unidades Nativas: Receita de hash em unidades nativas. (RevHashNtv)\\nTaxa de Receita de Hash: Taxa de receita de hash. (RevHashRateNtv)\\nTaxa de Receita de Hash em USD: Taxa de receita de hash em USD. (RevHashRateUSD)\\nReceita de Hash em USD: Receita de hash em USD. (RevHashUSD)\\nReceita em Unidades Nativas: Receita em unidades nativas. (RevNtv)\\nReceita em USD: Receita em USD. (RevUSD)\\nRelação de Estoque-Fluxo: Relação de estoque-fluxo. (SER)\\nAtividade de Suprimento em 10 Anos: Atividade de suprimento em 10 anos. (SplyAct10yr)\\nAtividade de Suprimento em 180 Dias: Atividade de suprimento em 180 dias. (SplyAct180d)\\nAtividade de Suprimento em 1 Dia: Atividade de suprimento em 1 dia. (SplyAct1d)\\nAtividade de Suprimento em 1 Ano: Atividade de suprimento em 1 ano. (SplyAct1yr)\\nAtividade de Suprimento em 2 Anos: Atividade de suprimento em 2 anos. (SplyAct2yr)\\nAtividade de Suprimento em 30 Dias: Atividade de suprimento em 30 dias. (SplyAct30d)\\nAtividade de Suprimento em 3 Anos: Atividade de suprimento em 3 anos. (SplyAct3yr)\\nAtividade de Suprimento em 4 Anos: Atividade de suprimento em 4 anos. (SplyAct4yr)\\nAtividade de Suprimento em 5 Anos: Atividade de suprimento em 5 anos. (SplyAct5yr)\\nAtividade de Suprimento em 7 Dias: Atividade de suprimento em 7 dias. (SplyAct7d)\\nAtividade de Suprimento em 90 Dias: Atividade de suprimento em 90 dias. (SplyAct90d)\\nAtividade de Suprimento de Todos os Tempos: Atividade de suprimento de todos os tempos. (SplyActEver)\\nPercentual de Suprimento de Atividade em 1 Ano: Percentual de suprimento de atividade em 1 ano. (SplyActPct1yr)\\nSuprimento de Endereço com Saldo de 100 mil ou mais: Suprimento de endereço com saldo de 100 mil ou mais. (SplyAdrBal1in100K)\\nSuprimento de Endereço com Saldo de 100 milhões ou mais: Suprimento de endereço com saldo de 100 milhões ou mais. (SplyAdrBal1in100M)\\nSuprimento de Endereço com Saldo de 10 bilhões ou mais: Suprimento de endereço com saldo de 10 bilhões ou mais. (SplyAdrBal1in10B)\\nSuprimento de Endereço com Saldo de 10 mil ou mais: Suprimento de endereço com saldo de 10 mil ou mais. (SplyAdrBal1in10K)\\nSuprimento de Endereço com Saldo de 10 milhões ou mais: Suprimento de endereço com saldo de 10 milhões ou mais. (SplyAdrBal1in10M)\\nSuprimento de Endereço com Saldo de 1 bilhão ou mais: Suprimento de endereço com saldo de 1 bilhão ou mais. (SplyAdrBal1in1B)\\nSuprimento de Endereço com Saldo de 1 mil ou mais: Suprimento de endereço com saldo de 1 mil ou mais. (SplyAdrBal1in1K)\\nSuprimento de Endereço com Saldo de 1 milhão ou mais: Suprimento de endereço com saldo de 1 milhão ou mais. (SplyAdrBal1in1M)\\nSuprimento de Endereço com Saldo Nativo de 0.001 ou mais: Suprimento de endereço com saldo nativo de 0.001 ou mais. (SplyAdrBalNtv0.001)\\nSuprimento de Endereço com Saldo Nativo de 0.01 ou mais: Suprimento de endereço com saldo nativo de 0.01 ou mais. (SplyAdrBalNtv0.01)\\nSuprimento de Endereço com Saldo Nativo de 0.1 ou mais: Suprimento de endereço com saldo nativo de 0.1 ou mais. (SplyAdrBalNtv0.1)\\nSuprimento de Endereço com Saldo Nativo de 1 ou mais: Suprimento de endereço com saldo nativo de 1 ou mais. (SplyAdrBalNtv1)\\nSuprimento de Endereço com Saldo Nativo de 10 ou mais: Suprimento de endereço com saldo nativo de 10 ou mais. (SplyAdrBalNtv10)\\nSuprimento de Endereço com Saldo Nativo de 100 ou mais: Suprimento de endereço com saldo nativo de 100 ou mais. (SplyAdrBalNtv100)\\nSuprimento de Endereço com Saldo Nativo de 100 mil ou mais: Suprimento de endereço com saldo nativo de 100 mil ou mais. (SplyAdrBalNtv100K)\\nSuprimento de Endereço com Saldo Nativo de 10 mil ou mais: Suprimento de endereço com saldo nativo de 10 mil ou mais. (SplyAdrBalNtv10K)\\nSuprimento de Endereço com Saldo Nativo de 1 mil ou mais: Suprimento de endereço com saldo nativo de 1 mil ou mais. (SplyAdrBalNtv1K)\\nSuprimento de Endereço com Saldo Nativo de 1 milhão ou mais: Suprimento de endereço com saldo nativo de 1 milhão ou mais. (SplyAdrBalNtv1M)\\nSuprimento de Endereço com Saldo em USD de 1 ou mais: Suprimento de endereço com saldo em USD de 1 ou mais. (SplyAdrBalUSD1)\\nSuprimento de Endereço com Saldo em USD de 10 ou mais: Suprimento de endereço com saldo em USD de 10 ou mais. (SplyAdrBalUSD10)\\nSuprimento de Endereço com Saldo em USD de 100 ou mais: Suprimento de endereço com saldo em USD de 100 ou mais. (SplyAdrBalUSD100)\\nSuprimento de Endereço com Saldo em USD de 100 mil ou mais: Suprimento de endereço com saldo em USD de 100 mil ou mais. (SplyAdrBalUSD100K)\\nSuprimento de Endereço com Saldo em USD de 10 mil ou mais: Suprimento de endereço com saldo em USD de 10 mil ou mais. (SplyAdrBalUSD10K)\\nSuprimento de Endereço com Saldo em USD de 10 milhões ou mais: Suprimento de endereço com saldo em USD de 10 milhões ou mais. (SplyAdrBalUSD10M)\\nSuprimento de Endereço com Saldo em USD de 1 mil ou mais: Suprimento de endereço com saldo em USD de 1 mil ou mais. (SplyAdrBalUSD1K)\\nSuprimento de Endereço com Saldo em USD de 1 milhão ou mais: Suprimento de endereço com saldo em USD de 1 milhão ou mais. (SplyAdrBalUSD1M)\\nSuprimento dos 100 Principais Endereços: Suprimento dos 100 principais endereços. (SplyAdrTop100)\\nPercentual de Suprimento Detido pelos 10% dos Principais Endereços: Percentual de suprimento detido pelos 10% dos principais endereços. (SplyAdrTop10Pct)\\nPercentual de Suprimento Detido pelos 1% dos Principais Endereços: Percentual de suprimento detido pelos 1% dos principais endereços. (SplyAdrTop1Pct)\\nSuprimento Circulante: Suprimento circulante. (SplyCur)\\nSuprimento Futuro Esperado em 10 Anos: Suprimento futuro esperado em 10 anos. (SplyExpFut10yr)\\nSuprimento em Circulação Excluindo Endereços de Troca: Suprimento em circulação excluindo endereços de troca. (SplyFF)\\nSuprimento Mínimo de Todos os Mineradores sem Saltos em Unidades Nativas: Suprimento mínimo de todos os mineradores sem saltos em unidades nativas. (SplyMiner0HopAllNtv)\\nSuprimento Mínimo de Todos os Mineradores sem Saltos em USD: Suprimento mínimo de todos os mineradores sem saltos em USD. (SplyMiner0HopAllUSD)\\nSuprimento Mínimo de Todos os Mineradores com 1 Salto em Unidades Nativas: Suprimento mínimo de todos os mineradores com 1 salto em unidades nativas. (SplyMiner1HopAllNtv)\\nSuprimento Mínimo de Todos os Mineradores com 1 Salto em USD: Suprimento mínimo de todos os mineradores com 1 salto em USD. (SplyMiner1HopAllUSD)\\nContagem de Transações: Número total de transações na blockchain. (TxCnt)\\nContagem de Transações por Segundo: Número total de transações por segundo. (TxCntSec)\\nContagem de Transferências: Número total de transferências na blockchain. (TxTfrCnt)\\nValor de Transferência Ajustado em Unidades Nativas: Valor de transferência ajustado em unidades nativas. (TxTfrValAdjNtv)\\nValor de Transferência Ajustado em USD: Valor de transferência ajustado em USD. (TxTfrValAdjUSD)\\nValor Médio de Transferência em Unidades Nativas: Valor médio de transferência em unidades nativas. (TxTfrValMeanNtv)\\nValor Médio de Transferência em USD: Valor médio de transferência em USD. (TxTfrValMeanUSD)\\nValor Mediano de Transferência em Unidades Nativas: Valor mediano de transferência em unidades nativas. (TxTfrValMedNtv)\\nValor Mediano de Transferência em USD: Valor mediano de transferência em USD. (TxTfrValMedUSD)\\nVelocidade de Circulação em 1 Ano: Velocidade de circulação em 1 ano. (VelCur1yr)\\nRetorno Diário de Volatilidade em 180 Dias: Retorno diário de volatilidade em 180 dias. (VtyDayRet180d)\\nRetorno Diário de Volatilidade em 30 Dias: Retorno diário de volatilidade em 30 dias. (VtyDayRet30d)\\n'"
      ]
     },
     "execution_count": 13,
     "metadata": {},
     "output_type": "execute_result"
    }
   ],
   "source": [
    "import pandas as pd\n",
    "from tqdm import tqdm\n",
    "#For Preprocessing\n",
    "import re    # RegEx for removing non-letter characters\n",
    "import nltk  # natural language processing\n",
    "nltk.download(\"stopwords\")\n",
    "nltk.downloader.download('vader_lexicon')\n",
    "from nltk.corpus import stopwords\n",
    "\n",
    "from nltk.stem.porter import *\n",
    "from nltk.sentiment.vader import SentimentIntensityAnalyzer\n",
    "import sklearn\n",
    "import sklearn.impute\n",
    "import sklearn.preprocessing\n",
    "pd.options.plotting.backend = \"plotly\"\n",
    "\n",
    "# Formas de limpeza dos twitter\n",
    "# https://www.kaggle.com/code/offmann/bitcoin-tweets-dataviz-transformers-sentiment-an\n",
    "\n",
    "\"\"\" Atributos da base de twitters\n",
    "1\t  user_name\tThe name of the user, as they’ve defined it.\n",
    "2\t  user_location\tThe user-defined location for this account’s profile.\n",
    "3\t  user_description\tThe user-defined UTF-8 string describing their account.\n",
    "4\t  user_created\tTime and date, when the account was created.\n",
    "5\t  user_followers\tThe number of followers an account currently has.\n",
    "6\t  user_friends\tThe number of friends an account currently has.\n",
    "7\t  user_favourites\tThe number of favorites an account currently has\n",
    "8\t  user_verified\tWhen true, indicates that the user has a verified account\n",
    "9\t  date\tUTC time and date when the Tweet was created\n",
    "10\ttext\tThe actual UTF-8 text of the Tweet\n",
    "11\thashtags\tAll the other hashtags posted in the tweet along with #Bitcoin & #btc\n",
    "12\tsource\tUtility used to post the Tweet, Tweets from the Twitter website have a source value - web\n",
    "13\tis_retweet\tIndicates whether this Tweet has been Retweeted by the authenticating user. \"\"\"\n",
    "\n",
    "\"\"\" Atributos base 03 - bitcoin info\n",
    "Data: Data em que as métricas foram registradas. (Date)\n",
    "Contagem de Endereços Ativos: Número de endereços únicos que realizaram transações na rede. (AdrActCnt)\n",
    "Contagem de Endereços com Saldo de 100 mil ou mais: Número de endereços com saldo de 100 mil ou mais unidades da criptomoeda. (AdrBal1in100KCnt)\n",
    "Contagem de Endereços com Saldo de 100 milhões ou mais: Número de endereços com saldo de 100 milhões ou mais unidades da criptomoeda. (AdrBal1in100MCnt)\n",
    "Contagem de Endereços com Saldo de 10 bilhões ou mais: Número de endereços com saldo de 10 bilhões ou mais unidades da criptomoeda. (AdrBal1in10BCnt)\n",
    "Contagem de Endereços com Saldo de 10 mil ou mais: Número de endereços com saldo de 10 mil ou mais unidades da criptomoeda. (AdrBal1in10KCnt)\n",
    "Contagem de Endereços com Saldo de 10 milhões ou mais: Número de endereços com saldo de 10 milhões ou mais unidades da criptomoeda. (AdrBal1in10MCnt)\n",
    "Contagem de Endereços com Saldo de 1 bilhão ou mais: Número de endereços com saldo de 1 bilhão ou mais unidades da criptomoeda. (AdrBal1in1BCnt)\n",
    "Contagem de Endereços com Saldo de 1 mil ou mais: Número de endereços com saldo de 1 mil ou mais unidades da criptomoeda. (AdrBal1in1KCnt)\n",
    "Contagem de Endereços com Saldo de 1 milhão ou mais: Número de endereços com saldo de 1 milhão ou mais unidades da criptomoeda. (AdrBal1in1MCnt)\n",
    "Contagem de Endereços com Saldo: Número total de endereços com saldo de qualquer valor. (AdrBalCnt)\n",
    "Contagem de Endereços com Saldo Nativo de 0.001 ou mais: Número de endereços com saldo nativo de 0.001 ou mais unidades da criptomoeda. (AdrBalNtv0.001Cnt)\n",
    "Contagem de Endereços com Saldo Nativo de 0.01 ou mais: Número de endereços com saldo nativo de 0.01 ou mais unidades da criptomoeda. (AdrBalNtv0.01Cnt)\n",
    "Contagem de Endereços com Saldo Nativo de 0.1 ou mais: Número de endereços com saldo nativo de 0.1 ou mais unidades da criptomoeda. (AdrBalNtv0.1Cnt)\n",
    "Contagem de Endereços com Saldo Nativo de 100 ou mais: Número de endereços com saldo nativo de 100 ou mais unidades da criptomoeda. (AdrBalNtv100Cnt)\n",
    "Contagem de Endereços com Saldo Nativo de 100 mil ou mais: Número de endereços com saldo nativo de 100 mil ou mais unidades da criptomoeda. (AdrBalNtv100KCnt)\n",
    "Contagem de Endereços com Saldo Nativo de 10 ou mais: Número de endereços com saldo nativo de 10 ou mais unidades da criptomoeda. (AdrBalNtv10Cnt)\n",
    "Contagem de Endereços com Saldo Nativo de 10 mil ou mais: Número de endereços com saldo nativo de 10 mil ou mais unidades da criptomoeda. (AdrBalNtv10KCnt)\n",
    "Contagem de Endereços com Saldo Nativo de 1 ou mais: Número de endereços com saldo nativo de 1 ou mais unidades da criptomoeda. (AdrBalNtv1Cnt)\n",
    "Contagem de Endereços com Saldo Nativo de 1 mil ou mais: Número de endereços com saldo nativo de 1 mil ou mais unidades da criptomoeda. (AdrBalNtv1KCnt)\n",
    "Contagem de Endereços com Saldo Nativo de 1 milhão ou mais: Número de endereços com saldo nativo de 1 milhão ou mais unidades da criptomoeda. (AdrBalNtv1MCnt)\n",
    "Contagem de Endereços com Saldo em USD de 100 ou mais: Número de endereços com saldo em USD de 100 ou mais unidades. (AdrBalUSD100Cnt)\n",
    "Contagem de Endereços com Saldo em USD de 100 mil ou mais: Número de endereços com saldo em USD de 100 mil ou mais unidades. (AdrBalUSD100KCnt)\n",
    "Contagem de Endereços com Saldo em USD de 10 ou mais: Número de endereços com saldo em USD de 10 ou mais unidades. (AdrBalUSD10Cnt)\n",
    "Contagem de Endereços com Saldo em USD de 10 mil ou mais: Número de endereços com saldo em USD de 10 mil ou mais unidades. (AdrBalUSD10KCnt)\n",
    "Contagem de Endereços com Saldo em USD de 10 milhões ou mais: Número de endereços com saldo em USD de 10 milhões ou mais unidades. (AdrBalUSD10MCnt)\n",
    "Contagem de Endereços com Saldo em USD de 1 ou mais: Número de endereços com saldo em USD de 1 ou mais unidades. (AdrBalUSD1Cnt)\n",
    "Contagem de Endereços com Saldo em USD de 1 mil ou mais: Número de endereços com saldo em USD de 1 mil ou mais unidades. (AdrBalUSD1KCnt)\n",
    "Contagem de Endereços com Saldo em USD de 1 milhão ou mais: Número de endereços com saldo em USD de 1 milhão ou mais unidades. (AdrBalUSD1MCnt)\n",
    "Tempo de conclusão do Ativo no Fim do Dia do Ativo: Horário de conclusão do ativo no fim do dia. (AssetEODCompletionTime)\n",
    "Contagem de Blocos: Número total de blocos na blockchain. (BlkCnt)\n",
    "Tamanho Médio do Bloco em Bytes: Tamanho médio dos blocos em bytes. (BlkSizeMeanByte)\n",
    "Peso Médio do Bloco: Peso médio dos blocos. (BlkWghtMean)\n",
    "Peso Total do Bloco: Peso total dos blocos. (BlkWghtTot)\n",
    "Atividade de Capitalização em USD no Último Ano: Atividade de capitalização em USD no último ano. (CapAct1yrUSD)\n",
    "Valor Realizado de Mercado Atual: Valor de mercado realizado atual. (CapMVRVCur)\n",
    "Valor Realizado de Mercado para Valor de Mercado Futuro: Valor de mercado realizado para valor de mercado futuro. (CapMVRVFF)\n",
    "Valor de Mercado Atual em USD: Valor de mercado atual em USD. (CapMrktCurUSD)\n",
    "Valor de Mercado Futuro em USD: Valor de mercado futuro em USD. (CapMrktFFUSD)\n",
    "Valor Realizado em USD: Valor realizado em USD. (CapRealUSD)\n",
    "Dificuldade do Último Bloco: Dificuldade do último bloco. (DiffLast)\n",
    "Dificuldade Média: Dificuldade média. (DiffMean)\n",
    "Taxa Média de Taxa por Byte Nativa: Taxa média de taxa por byte nativa. (FeeByteMeanNtv)\n",
    "Taxa Média de Taxa: Taxa média de taxa. (FeeMeanNtv)\n",
    "Taxa Média em USD: Taxa média em USD. (FeeMeanUSD)\n",
    "Taxa Mediana Nativa: Taxa mediana nativa. (FeeMedNtv)\n",
    "Taxa Mediana em USD: Taxa mediana em USD. (FeeMedUSD)\n",
    "Taxa Total Nativa: Taxa total nativa. (FeeTotNtv)\n",
    "Taxa Total em USD: Taxa total em USD. (FeeTotUSD)\n",
    "Fluxo de Entrada de Trocas em Unidades Nativas: Fluxo de entrada de trocas em unidades nativas. (FlowInExNtv)\n",
    "Fluxo de Entrada de Trocas em USD: Fluxo de entrada de trocas em USD. (FlowInExUSD)\n",
    "Fluxo de Saída de Trocas em Unidades Nativas: Fluxo de saída de trocas em unidades nativas. (FlowOutExNtv)\n",
    "Fluxo de Saída de Trocas em USD: Fluxo de saída de trocas em USD. (FlowOutExUSD)\n",
    "Contagem de Transferências de Troca: Número de transferências de troca. (FlowTfrFromExCnt)\n",
    "Taxa de Hash: Taxa de hash. (HashRate)\n",
    "Taxa de Hash dos Últimos 30 Dias: Taxa de hash dos últimos 30 dias. (HashRate30d)\n",
    "Contagem de Contratos Emitidos em Unidades Nativas: Número de contratos emitidos em unidades nativas. (IssContNtv)\n",
    "Percentual de Contratos Emitidos Anualmente: Percentual de contratos emitidos anualmente. (IssContPctAnn)\n",
    "Percentual de Contratos Emitidos Diariamente: Percentual de contratos emitidos diariamente. (IssContPctDay)\n",
    "Valor de Contratos Emitidos em USD: Valor de contratos emitidos em USD. (IssContUSD)\n",
    "Total Emitido em Unidades Nativas: Total emitido em unidades nativas. (IssTotNtv)\n",
    "Total Emitido em USD: Total emitido em USD. (IssTotUSD)\n",
    "Data da Prova de Trabalho: Data da prova de trabalho. (NDF)\n",
    "NVT Ajustado: NVT ajustado. (NVTAdj)\n",
    "NVT Ajustado em 90 Dias: NVT ajustado em 90 dias. (NVTAdj90)\n",
    "NVT Ajustado Futuro: NVT ajustado futuro. (NVTAdjFF)\n",
    "NVT Ajustado Futuro em 90 Dias: NVT ajustado futuro em 90 dias. (NVTAdjFF90)\n",
    "Preço em BTC: Preço em BTC. (PriceBTC)\n",
    "Preço em USD: Preço em USD. (PriceUSD)\n",
    "ROI de 1 Ano: ROI de 1 ano. (ROI1yr)\n",
    "ROI de 30 Dias: ROI de 30 dias. (ROI30d)\n",
    "Receita Total em USD de Todos os Tempos: Receita total em USD de todos os tempos. (RevAllTimeUSD)\n",
    "Receita de Hash em Unidades Nativas: Receita de hash em unidades nativas. (RevHashNtv)\n",
    "Taxa de Receita de Hash: Taxa de receita de hash. (RevHashRateNtv)\n",
    "Taxa de Receita de Hash em USD: Taxa de receita de hash em USD. (RevHashRateUSD)\n",
    "Receita de Hash em USD: Receita de hash em USD. (RevHashUSD)\n",
    "Receita em Unidades Nativas: Receita em unidades nativas. (RevNtv)\n",
    "Receita em USD: Receita em USD. (RevUSD)\n",
    "Relação de Estoque-Fluxo: Relação de estoque-fluxo. (SER)\n",
    "Atividade de Suprimento em 10 Anos: Atividade de suprimento em 10 anos. (SplyAct10yr)\n",
    "Atividade de Suprimento em 180 Dias: Atividade de suprimento em 180 dias. (SplyAct180d)\n",
    "Atividade de Suprimento em 1 Dia: Atividade de suprimento em 1 dia. (SplyAct1d)\n",
    "Atividade de Suprimento em 1 Ano: Atividade de suprimento em 1 ano. (SplyAct1yr)\n",
    "Atividade de Suprimento em 2 Anos: Atividade de suprimento em 2 anos. (SplyAct2yr)\n",
    "Atividade de Suprimento em 30 Dias: Atividade de suprimento em 30 dias. (SplyAct30d)\n",
    "Atividade de Suprimento em 3 Anos: Atividade de suprimento em 3 anos. (SplyAct3yr)\n",
    "Atividade de Suprimento em 4 Anos: Atividade de suprimento em 4 anos. (SplyAct4yr)\n",
    "Atividade de Suprimento em 5 Anos: Atividade de suprimento em 5 anos. (SplyAct5yr)\n",
    "Atividade de Suprimento em 7 Dias: Atividade de suprimento em 7 dias. (SplyAct7d)\n",
    "Atividade de Suprimento em 90 Dias: Atividade de suprimento em 90 dias. (SplyAct90d)\n",
    "Atividade de Suprimento de Todos os Tempos: Atividade de suprimento de todos os tempos. (SplyActEver)\n",
    "Percentual de Suprimento de Atividade em 1 Ano: Percentual de suprimento de atividade em 1 ano. (SplyActPct1yr)\n",
    "Suprimento de Endereço com Saldo de 100 mil ou mais: Suprimento de endereço com saldo de 100 mil ou mais. (SplyAdrBal1in100K)\n",
    "Suprimento de Endereço com Saldo de 100 milhões ou mais: Suprimento de endereço com saldo de 100 milhões ou mais. (SplyAdrBal1in100M)\n",
    "Suprimento de Endereço com Saldo de 10 bilhões ou mais: Suprimento de endereço com saldo de 10 bilhões ou mais. (SplyAdrBal1in10B)\n",
    "Suprimento de Endereço com Saldo de 10 mil ou mais: Suprimento de endereço com saldo de 10 mil ou mais. (SplyAdrBal1in10K)\n",
    "Suprimento de Endereço com Saldo de 10 milhões ou mais: Suprimento de endereço com saldo de 10 milhões ou mais. (SplyAdrBal1in10M)\n",
    "Suprimento de Endereço com Saldo de 1 bilhão ou mais: Suprimento de endereço com saldo de 1 bilhão ou mais. (SplyAdrBal1in1B)\n",
    "Suprimento de Endereço com Saldo de 1 mil ou mais: Suprimento de endereço com saldo de 1 mil ou mais. (SplyAdrBal1in1K)\n",
    "Suprimento de Endereço com Saldo de 1 milhão ou mais: Suprimento de endereço com saldo de 1 milhão ou mais. (SplyAdrBal1in1M)\n",
    "Suprimento de Endereço com Saldo Nativo de 0.001 ou mais: Suprimento de endereço com saldo nativo de 0.001 ou mais. (SplyAdrBalNtv0.001)\n",
    "Suprimento de Endereço com Saldo Nativo de 0.01 ou mais: Suprimento de endereço com saldo nativo de 0.01 ou mais. (SplyAdrBalNtv0.01)\n",
    "Suprimento de Endereço com Saldo Nativo de 0.1 ou mais: Suprimento de endereço com saldo nativo de 0.1 ou mais. (SplyAdrBalNtv0.1)\n",
    "Suprimento de Endereço com Saldo Nativo de 1 ou mais: Suprimento de endereço com saldo nativo de 1 ou mais. (SplyAdrBalNtv1)\n",
    "Suprimento de Endereço com Saldo Nativo de 10 ou mais: Suprimento de endereço com saldo nativo de 10 ou mais. (SplyAdrBalNtv10)\n",
    "Suprimento de Endereço com Saldo Nativo de 100 ou mais: Suprimento de endereço com saldo nativo de 100 ou mais. (SplyAdrBalNtv100)\n",
    "Suprimento de Endereço com Saldo Nativo de 100 mil ou mais: Suprimento de endereço com saldo nativo de 100 mil ou mais. (SplyAdrBalNtv100K)\n",
    "Suprimento de Endereço com Saldo Nativo de 10 mil ou mais: Suprimento de endereço com saldo nativo de 10 mil ou mais. (SplyAdrBalNtv10K)\n",
    "Suprimento de Endereço com Saldo Nativo de 1 mil ou mais: Suprimento de endereço com saldo nativo de 1 mil ou mais. (SplyAdrBalNtv1K)\n",
    "Suprimento de Endereço com Saldo Nativo de 1 milhão ou mais: Suprimento de endereço com saldo nativo de 1 milhão ou mais. (SplyAdrBalNtv1M)\n",
    "Suprimento de Endereço com Saldo em USD de 1 ou mais: Suprimento de endereço com saldo em USD de 1 ou mais. (SplyAdrBalUSD1)\n",
    "Suprimento de Endereço com Saldo em USD de 10 ou mais: Suprimento de endereço com saldo em USD de 10 ou mais. (SplyAdrBalUSD10)\n",
    "Suprimento de Endereço com Saldo em USD de 100 ou mais: Suprimento de endereço com saldo em USD de 100 ou mais. (SplyAdrBalUSD100)\n",
    "Suprimento de Endereço com Saldo em USD de 100 mil ou mais: Suprimento de endereço com saldo em USD de 100 mil ou mais. (SplyAdrBalUSD100K)\n",
    "Suprimento de Endereço com Saldo em USD de 10 mil ou mais: Suprimento de endereço com saldo em USD de 10 mil ou mais. (SplyAdrBalUSD10K)\n",
    "Suprimento de Endereço com Saldo em USD de 10 milhões ou mais: Suprimento de endereço com saldo em USD de 10 milhões ou mais. (SplyAdrBalUSD10M)\n",
    "Suprimento de Endereço com Saldo em USD de 1 mil ou mais: Suprimento de endereço com saldo em USD de 1 mil ou mais. (SplyAdrBalUSD1K)\n",
    "Suprimento de Endereço com Saldo em USD de 1 milhão ou mais: Suprimento de endereço com saldo em USD de 1 milhão ou mais. (SplyAdrBalUSD1M)\n",
    "Suprimento dos 100 Principais Endereços: Suprimento dos 100 principais endereços. (SplyAdrTop100)\n",
    "Percentual de Suprimento Detido pelos 10% dos Principais Endereços: Percentual de suprimento detido pelos 10% dos principais endereços. (SplyAdrTop10Pct)\n",
    "Percentual de Suprimento Detido pelos 1% dos Principais Endereços: Percentual de suprimento detido pelos 1% dos principais endereços. (SplyAdrTop1Pct)\n",
    "Suprimento Circulante: Suprimento circulante. (SplyCur)\n",
    "Suprimento Futuro Esperado em 10 Anos: Suprimento futuro esperado em 10 anos. (SplyExpFut10yr)\n",
    "Suprimento em Circulação Excluindo Endereços de Troca: Suprimento em circulação excluindo endereços de troca. (SplyFF)\n",
    "Suprimento Mínimo de Todos os Mineradores sem Saltos em Unidades Nativas: Suprimento mínimo de todos os mineradores sem saltos em unidades nativas. (SplyMiner0HopAllNtv)\n",
    "Suprimento Mínimo de Todos os Mineradores sem Saltos em USD: Suprimento mínimo de todos os mineradores sem saltos em USD. (SplyMiner0HopAllUSD)\n",
    "Suprimento Mínimo de Todos os Mineradores com 1 Salto em Unidades Nativas: Suprimento mínimo de todos os mineradores com 1 salto em unidades nativas. (SplyMiner1HopAllNtv)\n",
    "Suprimento Mínimo de Todos os Mineradores com 1 Salto em USD: Suprimento mínimo de todos os mineradores com 1 salto em USD. (SplyMiner1HopAllUSD)\n",
    "Contagem de Transações: Número total de transações na blockchain. (TxCnt)\n",
    "Contagem de Transações por Segundo: Número total de transações por segundo. (TxCntSec)\n",
    "Contagem de Transferências: Número total de transferências na blockchain. (TxTfrCnt)\n",
    "Valor de Transferência Ajustado em Unidades Nativas: Valor de transferência ajustado em unidades nativas. (TxTfrValAdjNtv)\n",
    "Valor de Transferência Ajustado em USD: Valor de transferência ajustado em USD. (TxTfrValAdjUSD)\n",
    "Valor Médio de Transferência em Unidades Nativas: Valor médio de transferência em unidades nativas. (TxTfrValMeanNtv)\n",
    "Valor Médio de Transferência em USD: Valor médio de transferência em USD. (TxTfrValMeanUSD)\n",
    "Valor Mediano de Transferência em Unidades Nativas: Valor mediano de transferência em unidades nativas. (TxTfrValMedNtv)\n",
    "Valor Mediano de Transferência em USD: Valor mediano de transferência em USD. (TxTfrValMedUSD)\n",
    "Velocidade de Circulação em 1 Ano: Velocidade de circulação em 1 ano. (VelCur1yr)\n",
    "Retorno Diário de Volatilidade em 180 Dias: Retorno diário de volatilidade em 180 dias. (VtyDayRet180d)\n",
    "Retorno Diário de Volatilidade em 30 Dias: Retorno diário de volatilidade em 30 dias. (VtyDayRet30d)\n",
    "\"\"\"\n",
    "\n",
    "# Limpeza e pre processamento\n",
    "# https://www.kaggle.com/code/jeanho/btc-project-eda\n"
   ]
  },
  {
   "cell_type": "code",
   "execution_count": 14,
   "metadata": {},
   "outputs": [
    {
     "name": "stderr",
     "output_type": "stream",
     "text": [
      "C:\\Users\\joelm\\AppData\\Local\\Temp\\ipykernel_9584\\1130288476.py:3: DtypeWarning: Columns (4,5,6,7,12) have mixed types. Specify dtype option on import or set low_memory=False.\n",
      "  df1 = pd.read_csv('../data/raw/Bitcoin_tweets.csv', nrows=4000000)\n"
     ]
    }
   ],
   "source": [
    "# Load Tweet dataset\n",
    "pd.set_option('display.max_rows', None)\n",
    "df1 = pd.read_csv('../data/raw/Bitcoin_tweets.csv', nrows=4000000)\n",
    "df2 = pd.read_csv('../data/raw/BitcoinPriceHistory.csv')"
   ]
  },
  {
   "cell_type": "code",
   "execution_count": 15,
   "metadata": {},
   "outputs": [],
   "source": [
    "# validação para remover data com dados incorretos quando está acima de cem mil instâncias da base 01\n",
    "\"\"\" ['date'] == \"['ETH', 'BTC', 'Bitcoin']\"\n",
    "df1 = df1.drop(df1.index[64943])\n",
    "df1=df1.drop(df1.index[137067])\n",
    "df1=df1.drop(df1.index[180573])\n",
    "df1=df1.drop(df1.index[693191])\n",
    "df1=df1.drop(df1.index[697393]) \n",
    "\"\"\"\n",
    "df1 = df1.drop(df1.index[64943])\n",
    "df1=df1.drop(df1.index[137067])\n",
    "df1=df1.drop(df1.index[180573])\n",
    "df1=df1.drop(df1.index[693191])\n",
    "df1=df1.drop(df1.index[697393]) "
   ]
  },
  {
   "cell_type": "code",
   "execution_count": 16,
   "metadata": {},
   "outputs": [],
   "source": [
    "df1['date'] = pd.to_datetime(df1['date'], errors='coerce')\n",
    "df1 = df1.dropna(subset=['date'])"
   ]
  },
  {
   "cell_type": "code",
   "execution_count": 17,
   "metadata": {},
   "outputs": [],
   "source": [
    "# formatando as datas das bases para um padrão único\n",
    "df1['date'] = pd.to_datetime(df1['date'])\n",
    "df1['date'] = df1['date'].dt.tz_localize('UTC').dt.strftime('%m-%d-%Y')\n",
    "\n",
    "df2['Date'] = pd.to_datetime(df2['Date'], format='%m/%d/%Y')\n",
    "df2['Date'] = df2['Date'].dt.tz_localize('UTC').dt.strftime('%m-%d-%Y')"
   ]
  },
  {
   "cell_type": "code",
   "execution_count": 18,
   "metadata": {},
   "outputs": [],
   "source": [
    "# mapeamdo os atributos da base 02 pela data\n",
    "df1['price'] = df1['date'].map(df2.set_index('Date')['Price'])"
   ]
  },
  {
   "cell_type": "code",
   "execution_count": 19,
   "metadata": {},
   "outputs": [],
   "source": [
    "# rotulando do primeiro e segundo nome dos usuários\n",
    "df1 = df1.assign(**{\n",
    "    'first_name': df1['user_name'].str.split().str[0],\n",
    "    'last_name': df1['user_name'].str.split().str[-1]\n",
    "})\n",
    "\n",
    "label_encoder = sklearn.preprocessing.LabelEncoder()\n",
    "label_name = label_encoder.fit_transform(df1['first_name'])\n",
    "df1['first_name'] = label_name\n",
    "label_last_name = label_encoder.fit_transform(df1['last_name'])\n",
    "df1['last_name'] = label_last_name"
   ]
  },
  {
   "cell_type": "code",
   "execution_count": 20,
   "metadata": {},
   "outputs": [],
   "source": [
    "# convertido o valor price que esta como string para float\n",
    "df1['price'] = df1['price'].replace({'(\\\\D)': ''}, regex=True).apply(float)"
   ]
  },
  {
   "cell_type": "code",
   "execution_count": 21,
   "metadata": {},
   "outputs": [],
   "source": [
    "# dataframe principal com as colunas utilizadas para análise de sentimentos\n",
    "df = df1[[\n",
    "    # atributos da base 01\n",
    "    'first_name', 'last_name', 'user_description', 'date', 'text', 'user_followers', 'user_friends',\n",
    "    # atributos da base 02\n",
    "    'price']][:4000000]"
   ]
  },
  {
   "cell_type": "code",
   "execution_count": 22,
   "metadata": {},
   "outputs": [],
   "source": [
    "# criado os atributos de dia, mês e ano.\n",
    "df['date'] = pd.to_datetime(df['date'])\n",
    "df['day'] = df['date'].dt.day\n",
    "df['month'] = df['date'].dt.month\n",
    "df['year'] = df['date'].dt.year"
   ]
  },
  {
   "cell_type": "code",
   "execution_count": 23,
   "metadata": {},
   "outputs": [
    {
     "name": "stdout",
     "output_type": "stream",
     "text": [
      "<class 'pandas.core.frame.DataFrame'>\n",
      "Index: 3999983 entries, 0 to 3999999\n",
      "Data columns (total 11 columns):\n",
      " #   Column            Dtype         \n",
      "---  ------            -----         \n",
      " 0   first_name        int32         \n",
      " 1   last_name         int32         \n",
      " 2   user_description  object        \n",
      " 3   date              datetime64[ns]\n",
      " 4   text              object        \n",
      " 5   user_followers    object        \n",
      " 6   user_friends      object        \n",
      " 7   price             float64       \n",
      " 8   day               int32         \n",
      " 9   month             int32         \n",
      " 10  year              int32         \n",
      "dtypes: datetime64[ns](1), float64(1), int32(5), object(4)\n",
      "memory usage: 289.9+ MB\n"
     ]
    },
    {
     "data": {
      "text/plain": [
       "first_name               0\n",
       "last_name                0\n",
       "user_description    468468\n",
       "date                     0\n",
       "text                     0\n",
       "user_followers           0\n",
       "user_friends             0\n",
       "price                    0\n",
       "day                      0\n",
       "month                    0\n",
       "year                     0\n",
       "dtype: int64"
      ]
     },
     "execution_count": 23,
     "metadata": {},
     "output_type": "execute_result"
    }
   ],
   "source": [
    "# visualização de informações sobre os dados do dataframe\n",
    "df.describe()\n",
    "df.info()\n",
    "df.isnull().sum()\n",
    "#df"
   ]
  },
  {
   "cell_type": "code",
   "execution_count": 24,
   "metadata": {},
   "outputs": [
    {
     "name": "stderr",
     "output_type": "stream",
     "text": [
      "C:\\Users\\joelm\\AppData\\Local\\Temp\\ipykernel_9584\\2561411723.py:3: FutureWarning: Series.__getitem__ treating keys as positions is deprecated. In a future version, integer keys will always be treated as labels (consistent with DataFrame behavior). To access a value by position, use `ser.iloc[pos]`\n",
      "  description_frequence = df['user_description'].value_counts()[0]\n",
      "C:\\Users\\joelm\\AppData\\Local\\Temp\\ipykernel_9584\\2561411723.py:4: FutureWarning: A value is trying to be set on a copy of a DataFrame or Series through chained assignment using an inplace method.\n",
      "The behavior will change in pandas 3.0. This inplace method will never work because the intermediate object on which we are setting values always behaves as a copy.\n",
      "\n",
      "For example, when doing 'df[col].method(value, inplace=True)', try using 'df.method({col: value}, inplace=True)' or df[col] = df[col].method(value) instead, to perform the operation inplace on the original object.\n",
      "\n",
      "\n",
      "  df['user_description'].fillna(description_frequence, inplace=True)\n"
     ]
    },
    {
     "data": {
      "text/plain": [
       "0"
      ]
     },
     "execution_count": 24,
     "metadata": {},
     "output_type": "execute_result"
    }
   ],
   "source": [
    "# limpeza dos dados de descrição do usuário que estão com valores nulos e preenchimento, utilizando a modo, isso é o valor que aparece com mais frequência\n",
    "df['user_description'].value_counts()\n",
    "description_frequence = df['user_description'].value_counts()[0]\n",
    "df['user_description'].fillna(description_frequence, inplace=True)\n",
    "df['user_description'].isnull().sum()"
   ]
  },
  {
   "cell_type": "code",
   "execution_count": 25,
   "metadata": {},
   "outputs": [],
   "source": [
    "# remoção das linhas com dados faltantes\n",
    "df.dropna(axis=0, inplace=True)"
   ]
  },
  {
   "cell_type": "code",
   "execution_count": 26,
   "metadata": {},
   "outputs": [
    {
     "name": "stdout",
     "output_type": "stream",
     "text": [
      "<class 'pandas.core.frame.DataFrame'>\n",
      "Index: 3999983 entries, 0 to 3999999\n",
      "Data columns (total 11 columns):\n",
      " #   Column            Dtype         \n",
      "---  ------            -----         \n",
      " 0   first_name        int32         \n",
      " 1   last_name         int32         \n",
      " 2   user_description  object        \n",
      " 3   date              datetime64[ns]\n",
      " 4   text              object        \n",
      " 5   user_followers    object        \n",
      " 6   user_friends      object        \n",
      " 7   price             float64       \n",
      " 8   day               int32         \n",
      " 9   month             int32         \n",
      " 10  year              int32         \n",
      "dtypes: datetime64[ns](1), float64(1), int32(5), object(4)\n",
      "memory usage: 289.9+ MB\n"
     ]
    },
    {
     "data": {
      "text/plain": [
       "first_name          0\n",
       "last_name           0\n",
       "user_description    0\n",
       "date                0\n",
       "text                0\n",
       "user_followers      0\n",
       "user_friends        0\n",
       "price               0\n",
       "day                 0\n",
       "month               0\n",
       "year                0\n",
       "dtype: int64"
      ]
     },
     "execution_count": 26,
     "metadata": {},
     "output_type": "execute_result"
    }
   ],
   "source": [
    "# visualização de informações sobre os dados do dataframe depois da limpeza do atributo \"user_description\"\n",
    "df.describe()\n",
    "df.info()\n",
    "df.isnull().sum()\n",
    "\n",
    "#df"
   ]
  },
  {
   "cell_type": "code",
   "execution_count": 27,
   "metadata": {},
   "outputs": [],
   "source": [
    "# função para os textos em sequência de palavras\n",
    "# converte tudo para caixa baixa\n",
    "# removido valores que não são letras nem números\n",
    "# separa as frases em uma lista de palavras\n",
    "# remoção de palavras irrelevantes em inglês\n",
    "# uso do lematizador de Porter para remover as terminações morfológicas e flexionais mais comuns das palavras em inglês.\n",
    "def tweet_to_words(tweet):\n",
    "    ''' Convert tweet text into a sequence of words '''\n",
    "    \n",
    "    # convert to lowercase\n",
    "    text = tweet.lower()\n",
    "    # remove non letters\n",
    "    text = re.sub(r\"[^a-zA-Z0-9]\", \" \", text)\n",
    "    # tokenize\n",
    "    words = text.split()\n",
    "    # remove stopwords\n",
    "    words = [w for w in words if w not in stopwords.words(\"english\")]\n",
    "    # apply stemming\n",
    "    words = [PorterStemmer().stem(w) for w in words]\n",
    "    # return list\n",
    "    return words"
   ]
  },
  {
   "cell_type": "code",
   "execution_count": 28,
   "metadata": {},
   "outputs": [
    {
     "name": "stderr",
     "output_type": "stream",
     "text": [
      "100%|██████████| 3999983/3999983 [3:34:53<00:00, 310.22it/s]  \n"
     ]
    }
   ],
   "source": [
    "cleantext=[]\n",
    "for item in tqdm(df['text']):\n",
    "    words=tweet_to_words(item)\n",
    "    cleantext+=[words]\n",
    "df['cleantext']=cleantext\n"
   ]
  },
  {
   "cell_type": "code",
   "execution_count": 29,
   "metadata": {},
   "outputs": [
    {
     "name": "stderr",
     "output_type": "stream",
     "text": [
      "100%|██████████| 3999983/3999983 [1:34:41<00:00, 704.03it/s]  \n"
     ]
    }
   ],
   "source": [
    "cleantext=[]\n",
    "for item in tqdm(df['user_description']):\n",
    "    words=tweet_to_words(str(item))\n",
    "    cleantext+=[words]\n",
    "df['cleandescr']=cleantext"
   ]
  },
  {
   "cell_type": "code",
   "execution_count": 30,
   "metadata": {},
   "outputs": [],
   "source": [
    "# função para juntar a lista de palavras\n",
    "def unlist(list):\n",
    "    return ''.join(f'{item} ' for item in list)"
   ]
  },
  {
   "cell_type": "code",
   "execution_count": 31,
   "metadata": {},
   "outputs": [],
   "source": [
    "\n",
    "class SentimentAnalyzer:\n",
    "    def __init__(self):\n",
    "        self.sentiment_detector = SentimentIntensityAnalyzer()\n",
    "\n",
    "    def analyze_sentiment(self, text):\n",
    "        sentiment_scores = self.sentiment_detector.polarity_scores(text)\n",
    "        if sentiment_scores['compound'] >= 0.05:\n",
    "            sentiment_scores['sentiment'] = 'Positive'\n",
    "        elif -0.05 < sentiment_scores['compound'] < 0.05:\n",
    "            sentiment_scores['sentiment'] = 'Neutral'\n",
    "        else:\n",
    "            sentiment_scores['sentiment'] = 'Negative'\n",
    "        return sentiment_scores"
   ]
  },
  {
   "cell_type": "code",
   "execution_count": 32,
   "metadata": {},
   "outputs": [],
   "source": [
    "# computado a pontuação da intensidade dos sentimentos em frases dos twitters processadas com o bag of words.\n",
    "def compute_vader_scores_text(df, label):\n",
    "    sid = SentimentIntensityAnalyzer()\n",
    "    analyzer = SentimentAnalyzer()\n",
    "    \n",
    "    df[\"text_negative\"] = df[label].apply(lambda x: sid.polarity_scores(unlist(x))[\"neg\"])\n",
    "    df[\"text_neutral\"] = df[label].apply(lambda x: sid.polarity_scores(unlist(x))[\"neu\"])\n",
    "    df[\"text_positive\"] = df[label].apply(lambda x: sid.polarity_scores(unlist(x))[\"pos\"])\n",
    "    df['label'] = df[label].apply(lambda x: analyzer.analyze_sentiment(unlist(x))[\"sentiment\"])\n",
    "    df['text_sentiment'] = df[label].apply(lambda x: analyzer.analyze_sentiment(unlist(x))[\"sentiment\"])\n",
    "    \n",
    "    return df"
   ]
  },
  {
   "cell_type": "code",
   "execution_count": 33,
   "metadata": {},
   "outputs": [],
   "source": [
    "# computado a pontuação da intensidade dos sentimentos em frases das descrições dos twitters processadas com o bag of words.\n",
    "def compute_vader_scores_description(df, label):\n",
    "    sid = SentimentIntensityAnalyzer()\n",
    "    analyzer = SentimentAnalyzer()\n",
    "    \n",
    "    df[\"description_negative\"] = df[label].apply(lambda x: sid.polarity_scores(unlist(x))[\"neg\"])\n",
    "    df[\"description_neutral\"] = df[label].apply(lambda x: sid.polarity_scores(unlist(x))[\"neu\"])\n",
    "    df[\"description_positive\"] = df[label].apply(lambda x: sid.polarity_scores(unlist(x))[\"pos\"])\n",
    "    df['description_sentiment'] = df[label].apply(lambda x: analyzer.analyze_sentiment(unlist(x))[\"sentiment\"])\n",
    "    df['description_sentiment_label'] = df[label].apply(lambda x: analyzer.analyze_sentiment(unlist(x))[\"sentiment\"])\n",
    "\n",
    "    return df"
   ]
  },
  {
   "cell_type": "code",
   "execution_count": 34,
   "metadata": {},
   "outputs": [],
   "source": [
    "df = compute_vader_scores_text(df,'cleantext')\n",
    "df = compute_vader_scores_description(df,'cleandescr')"
   ]
  },
  {
   "cell_type": "code",
   "execution_count": 35,
   "metadata": {},
   "outputs": [],
   "source": [
    "# rotulando o sentimento da descrição com um valor numérico\n",
    "label_description_sentiment = label_encoder.fit_transform(df['description_sentiment'])\n",
    "df['description_sentiment'] = label_description_sentiment\n",
    "\n",
    "# rotulando o sentimento da text com um valor numérico\n",
    "label_text_sentiment = label_encoder.fit_transform(df['text_sentiment'])\n",
    "df['text_sentiment'] = label_text_sentiment"
   ]
  },
  {
   "cell_type": "code",
   "execution_count": 36,
   "metadata": {},
   "outputs": [],
   "source": [
    "# base com os 16 atributos principais.\n",
    "df_origin = df[['price', 'user_followers', 'user_friends', 'day', 'month', 'year', \n",
    "    'description_positive', 'description_negative', 'description_neutral', \n",
    "    'description_sentiment', 'description_sentiment_label', 'text_positive', \n",
    "    'text_negative', 'text_neutral', 'text_sentiment', 'label']]\n",
    "\n",
    "df_origin.to_csv('../data/processed/database_origin.csv', index=False)"
   ]
  },
  {
   "cell_type": "code",
   "execution_count": 37,
   "metadata": {},
   "outputs": [
    {
     "data": {
      "image/png": "[encoded data removed]",
      "text/plain": [
       "<Figure size 640x480 with 1 Axes>"
      ]
     },
     "metadata": {},
     "output_type": "display_data"
    },
    {
     "data": {
      "image/png": "[encoded data removed]",
      "text/plain": [
       "<Figure size 640x480 with 1 Axes>"
      ]
     },
     "metadata": {},
     "output_type": "display_data"
    }
   ],
   "source": [
    "# plotando os graficos boxplot\n",
    "import matplotlib.pyplot as plt\n",
    "\n",
    "plt.boxplot(df['text_sentiment'])\n",
    "plt.title(\"Boxplot to Identify Outliers Text Sentiment\")\n",
    "plt.show()\n",
    "\n",
    "plt.boxplot(df['description_sentiment'])\n",
    "plt.title(\"Boxplot to Identify Outliers Description Sentiment\")\n",
    "plt.show()"
   ]
  },
  {
   "cell_type": "code",
   "execution_count": 38,
   "metadata": {},
   "outputs": [
    {
     "data": {
      "text/plain": [
       "\" fig, ax = plt.subplots()\\nax.scatter(df['text_sentiment'], df['description_sentiment']) \""
      ]
     },
     "execution_count": 38,
     "metadata": {},
     "output_type": "execute_result"
    }
   ],
   "source": [
    "\"\"\" fig, ax = plt.subplots()\n",
    "ax.scatter(df['text_sentiment'], df['description_sentiment']) \"\"\""
   ]
  },
  {
   "cell_type": "code",
   "execution_count": 39,
   "metadata": {},
   "outputs": [
    {
     "data": {
      "text/plain": [
       "\" from sklearn.cluster import KMeans\\nkmeans = KMeans(n_clusters=3, random_state=0).fit(df[['text_sentiment', 'description_sentiment']])\\nkmeans.labels_ \""
      ]
     },
     "execution_count": 39,
     "metadata": {},
     "output_type": "execute_result"
    }
   ],
   "source": [
    "\"\"\" from sklearn.cluster import KMeans\n",
    "kmeans = KMeans(n_clusters=3, random_state=0).fit(df[['text_sentiment', 'description_sentiment']])\n",
    "kmeans.labels_ \"\"\""
   ]
  },
  {
   "cell_type": "code",
   "execution_count": null,
   "metadata": {},
   "outputs": [],
   "source": []
  },
  {
   "cell_type": "code",
   "execution_count": 40,
   "metadata": {},
   "outputs": [
    {
     "data": {
      "text/plain": [
       "\" fig, ax = plt.subplots()\\nax.scatter(df['text_sentiment'], df['description_sentiment'], c=kmeans.labels_) \""
      ]
     },
     "execution_count": 40,
     "metadata": {},
     "output_type": "execute_result"
    }
   ],
   "source": [
    "\"\"\" fig, ax = plt.subplots()\n",
    "ax.scatter(df['text_sentiment'], df['description_sentiment'], c=kmeans.labels_) \"\"\""
   ]
  },
  {
   "cell_type": "code",
   "execution_count": 41,
   "metadata": {},
   "outputs": [],
   "source": [
    "# load dataframe database origin\n",
    "df_origin = pd.read_csv('../data/processed/database_origin.csv')"
   ]
  },
  {
   "cell_type": "code",
   "execution_count": 42,
   "metadata": {},
   "outputs": [
    {
     "data": {
      "text/plain": [
       "<matplotlib.collections.PathCollection at 0x25cabc05130>"
      ]
     },
     "execution_count": 42,
     "metadata": {},
     "output_type": "execute_result"
    },
    {
     "data": {
      "image/png": "[encoded data removed]",
      "text/plain": [
       "<Figure size 640x480 with 1 Axes>"
      ]
     },
     "metadata": {},
     "output_type": "display_data"
    }
   ],
   "source": [
    "from matplotlib import pyplot as plt\n",
    "\n",
    "plt.scatter(df_origin['price'],df_origin['month'])"
   ]
  },
  {
   "cell_type": "code",
   "execution_count": 43,
   "metadata": {},
   "outputs": [
    {
     "ename": "ValueError",
     "evalue": "The feature names should match those that were passed during fit.\nFeature names seen at fit time, yet now missing:\n- day\n- description_negative\n- description_neutral\n- description_positive\n- month\n- ...\n",
     "output_type": "error",
     "traceback": [
      "\u001b[1;31m---------------------------------------------------------------------------\u001b[0m",
      "\u001b[1;31mValueError\u001b[0m                                Traceback (most recent call last)",
      "Cell \u001b[1;32mIn[43], line 17\u001b[0m\n\u001b[0;32m     15\u001b[0m \u001b[38;5;66;03m# Create a new dataset with the reduced features\u001b[39;00m\n\u001b[0;32m     16\u001b[0m reduced_df2 \u001b[38;5;241m=\u001b[39m df\u001b[38;5;241m.\u001b[39mcopy()\n\u001b[1;32m---> 17\u001b[0m reduced_df2[\u001b[38;5;124m'\u001b[39m\u001b[38;5;124mY_pred\u001b[39m\u001b[38;5;124m'\u001b[39m] \u001b[38;5;241m=\u001b[39m \u001b[43mmodel\u001b[49m\u001b[38;5;241;43m.\u001b[39;49m\u001b[43mpredict\u001b[49m\u001b[43m(\u001b[49m\u001b[43mdf_origin\u001b[49m\u001b[43m[\u001b[49m\u001b[43m[\u001b[49m\u001b[38;5;124;43m'\u001b[39;49m\u001b[38;5;124;43mdescription_sentiment\u001b[39;49m\u001b[38;5;124;43m'\u001b[39;49m\u001b[43m,\u001b[49m\u001b[43m \u001b[49m\u001b[38;5;124;43m'\u001b[39;49m\u001b[38;5;124;43mtext_sentiment\u001b[39;49m\u001b[38;5;124;43m'\u001b[39;49m\u001b[43m]\u001b[49m\u001b[43m]\u001b[49m\u001b[43m)\u001b[49m\n\u001b[0;32m     18\u001b[0m reduced_df2[\u001b[38;5;124m'\u001b[39m\u001b[38;5;124mreduced_Y\u001b[39m\u001b[38;5;124m'\u001b[39m] \u001b[38;5;241m=\u001b[39m df_origin[\u001b[38;5;124m'\u001b[39m\u001b[38;5;124mtext_sentiment\u001b[39m\u001b[38;5;124m'\u001b[39m] \u001b[38;5;241m-\u001b[39m reduced_df2[\u001b[38;5;124m'\u001b[39m\u001b[38;5;124mY_pred\u001b[39m\u001b[38;5;124m'\u001b[39m]\n\u001b[0;32m     19\u001b[0m reduced_df2 \u001b[38;5;241m=\u001b[39m reduced_df2\u001b[38;5;241m.\u001b[39mdrop([\u001b[38;5;124m'\u001b[39m\u001b[38;5;124mdescription_sentiment\u001b[39m\u001b[38;5;124m'\u001b[39m, \u001b[38;5;124m'\u001b[39m\u001b[38;5;124mtext_sentiment\u001b[39m\u001b[38;5;124m'\u001b[39m, \u001b[38;5;124m'\u001b[39m\u001b[38;5;124mtext_sentiment\u001b[39m\u001b[38;5;124m'\u001b[39m], axis\u001b[38;5;241m=\u001b[39m\u001b[38;5;241m1\u001b[39m)\n",
      "File \u001b[1;32mc:\\Users\\joelm\\AppData\\Local\\Programs\\Python\\Python312\\Lib\\site-packages\\sklearn\\linear_model\\_base.py:286\u001b[0m, in \u001b[0;36mLinearModel.predict\u001b[1;34m(self, X)\u001b[0m\n\u001b[0;32m    272\u001b[0m \u001b[38;5;28;01mdef\u001b[39;00m \u001b[38;5;21mpredict\u001b[39m(\u001b[38;5;28mself\u001b[39m, X):\n\u001b[0;32m    273\u001b[0m \u001b[38;5;250m    \u001b[39m\u001b[38;5;124;03m\"\"\"\u001b[39;00m\n\u001b[0;32m    274\u001b[0m \u001b[38;5;124;03m    Predict using the linear model.\u001b[39;00m\n\u001b[0;32m    275\u001b[0m \n\u001b[1;32m   (...)\u001b[0m\n\u001b[0;32m    284\u001b[0m \u001b[38;5;124;03m        Returns predicted values.\u001b[39;00m\n\u001b[0;32m    285\u001b[0m \u001b[38;5;124;03m    \"\"\"\u001b[39;00m\n\u001b[1;32m--> 286\u001b[0m     \u001b[38;5;28;01mreturn\u001b[39;00m \u001b[38;5;28;43mself\u001b[39;49m\u001b[38;5;241;43m.\u001b[39;49m\u001b[43m_decision_function\u001b[49m\u001b[43m(\u001b[49m\u001b[43mX\u001b[49m\u001b[43m)\u001b[49m\n",
      "File \u001b[1;32mc:\\Users\\joelm\\AppData\\Local\\Programs\\Python\\Python312\\Lib\\site-packages\\sklearn\\linear_model\\_base.py:269\u001b[0m, in \u001b[0;36mLinearModel._decision_function\u001b[1;34m(self, X)\u001b[0m\n\u001b[0;32m    266\u001b[0m \u001b[38;5;28;01mdef\u001b[39;00m \u001b[38;5;21m_decision_function\u001b[39m(\u001b[38;5;28mself\u001b[39m, X):\n\u001b[0;32m    267\u001b[0m     check_is_fitted(\u001b[38;5;28mself\u001b[39m)\n\u001b[1;32m--> 269\u001b[0m     X \u001b[38;5;241m=\u001b[39m \u001b[38;5;28;43mself\u001b[39;49m\u001b[38;5;241;43m.\u001b[39;49m\u001b[43m_validate_data\u001b[49m\u001b[43m(\u001b[49m\u001b[43mX\u001b[49m\u001b[43m,\u001b[49m\u001b[43m \u001b[49m\u001b[43maccept_sparse\u001b[49m\u001b[38;5;241;43m=\u001b[39;49m\u001b[43m[\u001b[49m\u001b[38;5;124;43m\"\u001b[39;49m\u001b[38;5;124;43mcsr\u001b[39;49m\u001b[38;5;124;43m\"\u001b[39;49m\u001b[43m,\u001b[49m\u001b[43m \u001b[49m\u001b[38;5;124;43m\"\u001b[39;49m\u001b[38;5;124;43mcsc\u001b[39;49m\u001b[38;5;124;43m\"\u001b[39;49m\u001b[43m,\u001b[49m\u001b[43m \u001b[49m\u001b[38;5;124;43m\"\u001b[39;49m\u001b[38;5;124;43mcoo\u001b[39;49m\u001b[38;5;124;43m\"\u001b[39;49m\u001b[43m]\u001b[49m\u001b[43m,\u001b[49m\u001b[43m \u001b[49m\u001b[43mreset\u001b[49m\u001b[38;5;241;43m=\u001b[39;49m\u001b[38;5;28;43;01mFalse\u001b[39;49;00m\u001b[43m)\u001b[49m\n\u001b[0;32m    270\u001b[0m     \u001b[38;5;28;01mreturn\u001b[39;00m safe_sparse_dot(X, \u001b[38;5;28mself\u001b[39m\u001b[38;5;241m.\u001b[39mcoef_\u001b[38;5;241m.\u001b[39mT, dense_output\u001b[38;5;241m=\u001b[39m\u001b[38;5;28;01mTrue\u001b[39;00m) \u001b[38;5;241m+\u001b[39m \u001b[38;5;28mself\u001b[39m\u001b[38;5;241m.\u001b[39mintercept_\n",
      "File \u001b[1;32mc:\\Users\\joelm\\AppData\\Local\\Programs\\Python\\Python312\\Lib\\site-packages\\sklearn\\base.py:608\u001b[0m, in \u001b[0;36mBaseEstimator._validate_data\u001b[1;34m(self, X, y, reset, validate_separately, cast_to_ndarray, **check_params)\u001b[0m\n\u001b[0;32m    537\u001b[0m \u001b[38;5;28;01mdef\u001b[39;00m \u001b[38;5;21m_validate_data\u001b[39m(\n\u001b[0;32m    538\u001b[0m     \u001b[38;5;28mself\u001b[39m,\n\u001b[0;32m    539\u001b[0m     X\u001b[38;5;241m=\u001b[39m\u001b[38;5;124m\"\u001b[39m\u001b[38;5;124mno_validation\u001b[39m\u001b[38;5;124m\"\u001b[39m,\n\u001b[1;32m   (...)\u001b[0m\n\u001b[0;32m    544\u001b[0m     \u001b[38;5;241m*\u001b[39m\u001b[38;5;241m*\u001b[39mcheck_params,\n\u001b[0;32m    545\u001b[0m ):\n\u001b[0;32m    546\u001b[0m \u001b[38;5;250m    \u001b[39m\u001b[38;5;124;03m\"\"\"Validate input data and set or check the `n_features_in_` attribute.\u001b[39;00m\n\u001b[0;32m    547\u001b[0m \n\u001b[0;32m    548\u001b[0m \u001b[38;5;124;03m    Parameters\u001b[39;00m\n\u001b[1;32m   (...)\u001b[0m\n\u001b[0;32m    606\u001b[0m \u001b[38;5;124;03m        validated.\u001b[39;00m\n\u001b[0;32m    607\u001b[0m \u001b[38;5;124;03m    \"\"\"\u001b[39;00m\n\u001b[1;32m--> 608\u001b[0m     \u001b[38;5;28;43mself\u001b[39;49m\u001b[38;5;241;43m.\u001b[39;49m\u001b[43m_check_feature_names\u001b[49m\u001b[43m(\u001b[49m\u001b[43mX\u001b[49m\u001b[43m,\u001b[49m\u001b[43m \u001b[49m\u001b[43mreset\u001b[49m\u001b[38;5;241;43m=\u001b[39;49m\u001b[43mreset\u001b[49m\u001b[43m)\u001b[49m\n\u001b[0;32m    610\u001b[0m     \u001b[38;5;28;01mif\u001b[39;00m y \u001b[38;5;129;01mis\u001b[39;00m \u001b[38;5;28;01mNone\u001b[39;00m \u001b[38;5;129;01mand\u001b[39;00m \u001b[38;5;28mself\u001b[39m\u001b[38;5;241m.\u001b[39m_get_tags()[\u001b[38;5;124m\"\u001b[39m\u001b[38;5;124mrequires_y\u001b[39m\u001b[38;5;124m\"\u001b[39m]:\n\u001b[0;32m    611\u001b[0m         \u001b[38;5;28;01mraise\u001b[39;00m \u001b[38;5;167;01mValueError\u001b[39;00m(\n\u001b[0;32m    612\u001b[0m             \u001b[38;5;124mf\u001b[39m\u001b[38;5;124m\"\u001b[39m\u001b[38;5;124mThis \u001b[39m\u001b[38;5;132;01m{\u001b[39;00m\u001b[38;5;28mself\u001b[39m\u001b[38;5;241m.\u001b[39m\u001b[38;5;18m__class__\u001b[39m\u001b[38;5;241m.\u001b[39m\u001b[38;5;18m__name__\u001b[39m\u001b[38;5;132;01m}\u001b[39;00m\u001b[38;5;124m estimator \u001b[39m\u001b[38;5;124m\"\u001b[39m\n\u001b[0;32m    613\u001b[0m             \u001b[38;5;124m\"\u001b[39m\u001b[38;5;124mrequires y to be passed, but the target y is None.\u001b[39m\u001b[38;5;124m\"\u001b[39m\n\u001b[0;32m    614\u001b[0m         )\n",
      "File \u001b[1;32mc:\\Users\\joelm\\AppData\\Local\\Programs\\Python\\Python312\\Lib\\site-packages\\sklearn\\base.py:535\u001b[0m, in \u001b[0;36mBaseEstimator._check_feature_names\u001b[1;34m(self, X, reset)\u001b[0m\n\u001b[0;32m    530\u001b[0m \u001b[38;5;28;01mif\u001b[39;00m \u001b[38;5;129;01mnot\u001b[39;00m missing_names \u001b[38;5;129;01mand\u001b[39;00m \u001b[38;5;129;01mnot\u001b[39;00m unexpected_names:\n\u001b[0;32m    531\u001b[0m     message \u001b[38;5;241m+\u001b[39m\u001b[38;5;241m=\u001b[39m (\n\u001b[0;32m    532\u001b[0m         \u001b[38;5;124m\"\u001b[39m\u001b[38;5;124mFeature names must be in the same order as they were in fit.\u001b[39m\u001b[38;5;130;01m\\n\u001b[39;00m\u001b[38;5;124m\"\u001b[39m\n\u001b[0;32m    533\u001b[0m     )\n\u001b[1;32m--> 535\u001b[0m \u001b[38;5;28;01mraise\u001b[39;00m \u001b[38;5;167;01mValueError\u001b[39;00m(message)\n",
      "\u001b[1;31mValueError\u001b[0m: The feature names should match those that were passed during fit.\nFeature names seen at fit time, yet now missing:\n- day\n- description_negative\n- description_neutral\n- description_positive\n- month\n- ...\n"
     ]
    }
   ],
   "source": [
    "from sklearn.linear_model import LinearRegression\n",
    "\n",
    "# Define the features and target variables\n",
    "X = df_origin[['price', 'user_followers', 'user_friends', 'day', 'month', 'year', \n",
    "    'description_positive', 'description_negative', 'description_neutral', \n",
    "    'description_sentiment', 'text_positive', \n",
    "    'text_negative', 'text_neutral', 'text_sentiment']]\n",
    "Y = df_origin['text_sentiment']\n",
    "\n",
    "model = LinearRegression()\n",
    "\n",
    "# Fit the model to the dataset\n",
    "model.fit(X, Y)\n",
    "\n",
    "# Create a new dataset with the reduced features\n",
    "reduced_df2 = df.copy()\n",
    "reduced_df2['Y_pred'] = model.predict(df_origin[['description_sentiment', 'text_sentiment']])\n",
    "reduced_df2['reduced_Y'] = df_origin['text_sentiment'] - reduced_df2['Y_pred']\n",
    "reduced_df2 = reduced_df2.drop(['description_sentiment', 'text_sentiment', 'text_sentiment'], axis=1)\n",
    "\n",
    "print(reduced_df2.head())"
   ]
  }
 ],
 "metadata": {
  "kernelspec": {
   "display_name": "Python 3",
   "language": "python",
   "name": "python3"
  },
  "language_info": {
   "codemirror_mode": {
    "name": "ipython",
    "version": 3
   },
   "file_extension": ".py",
   "mimetype": "text/x-python",
   "name": "python",
   "nbconvert_exporter": "python",
   "pygments_lexer": "ipython3",
   "version": "3.12.3"
  }
 },
 "nbformat": 4,
 "nbformat_minor": 2
}
